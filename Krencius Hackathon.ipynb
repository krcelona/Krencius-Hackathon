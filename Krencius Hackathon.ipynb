{
 "cells": [
  {
   "cell_type": "code",
   "execution_count": 1,
   "metadata": {},
   "outputs": [],
   "source": [
    "#Krencius Hackathon project\n"
   ]
  },
  {
   "cell_type": "code",
   "execution_count": 30,
   "metadata": {},
   "outputs": [],
   "source": [
    "#import modules\n",
    "\n",
    "import numpy as np\n",
    "import re"
   ]
  },
  {
   "cell_type": "code",
   "execution_count": 33,
   "metadata": {},
   "outputs": [],
   "source": []
  },
  {
   "cell_type": "code",
   "execution_count": 13,
   "metadata": {},
   "outputs": [],
   "source": [
    "#read in the text file containing the seed sequences for the miRNA in question\n",
    "\n",
    "#set the infile name\n",
    "InFileName2 = 'miR7.txt'\n",
    "\n",
    "#open the file for reading\n",
    "miR7file = open(InFileName2, 'r')\n"
   ]
  },
  {
   "cell_type": "code",
   "execution_count": 73,
   "metadata": {},
   "outputs": [
    {
     "name": "stdout",
     "output_type": "stream",
     "text": [
      "['GTCTTCCA', 'GTCTTCC', 'TCTTCCA', 'TCTTCC']\n"
     ]
    }
   ],
   "source": [
    "\n",
    "#create empty lists \n",
    "S1R = []\n",
    "S1P =[]\n",
    "S2 = []\n",
    "miR7 = []\n",
    "\n",
    "\n",
    "\n",
    "#move the contents of the miR7file to the miR7 list\n",
    "for value in open('miR7.txt'):\n",
    "    #remove the line ending characters\n",
    "    value = value.strip()\n",
    "    miR7.append(value)\n",
    "    \n",
    "print miR7\n",
    "\n",
    "#going to need to split the list (a list of strings) into a key:value dictionary"
   ]
  },
  {
   "cell_type": "code",
   "execution_count": 49,
   "metadata": {},
   "outputs": [],
   "source": [
    "# convert multiple lines in the fasta file to one line per sequence \n",
    "with open('human-bonobo.fas') as f_input, open('output.fasta', 'w') as f_output:\n",
    "    block = []\n",
    "\n",
    "    for line in f_input:\n",
    "        if line.startswith('>'):\n",
    "            if block:\n",
    "                f_output.write(''.join(block) + '\\n')\n",
    "                block = []\n",
    "            f_output.write(line)\n",
    "        else:\n",
    "            block.append(line.strip())\n",
    "\n",
    "    if block:\n",
    "        f_output.write(''.join(block) + '\\n')\n",
    "\n",
    "\n",
    "#open file to check contents\n",
    "InFile = open(\"output.fasta\")\n",
    "Filecontents = InFile.read()\n",
    "#print Filecontents\n"
   ]
  },
  {
   "cell_type": "code",
   "execution_count": 72,
   "metadata": {},
   "outputs": [
    {
     "ename": "SyntaxError",
     "evalue": "EOL while scanning string literal (<ipython-input-72-29bf7d72f218>, line 11)",
     "output_type": "error",
     "traceback": [
      "\u001b[0;36m  File \u001b[0;32m\"<ipython-input-72-29bf7d72f218>\"\u001b[0;36m, line \u001b[0;32m11\u001b[0m\n\u001b[0;31m    header = re.search('\\>\\w+\\', line)\u001b[0m\n\u001b[0m                                     ^\u001b[0m\n\u001b[0;31mSyntaxError\u001b[0m\u001b[0;31m:\u001b[0m EOL while scanning string literal\n"
     ]
    }
   ],
   "source": [
    "#try to append each sequence to a new list using the output.fasta file \n",
    "#print Filecontents\n",
    "\n",
    "\n",
    "\n",
    "name = []\n",
    "sequences = []\n",
    "        \n",
    "with open ('output.fasta') as file: \n",
    "    seq = ''\n",
    "    header = re.search('\\>\\w+\\', line)\n",
    "    if header:\n",
    "            line = line.rstrip(\"\\n\")\n",
    "            name.append(line)\n",
    "    else:\n",
    "        seq = line.replace('\\n'), '')\n",
    "        sequences.append(seq)\n",
    "print name\n",
    "print sequences\n",
    "\n",
    "    "
   ]
  },
  {
   "cell_type": "code",
   "execution_count": null,
   "metadata": {},
   "outputs": [],
   "source": []
  },
  {
   "cell_type": "code",
   "execution_count": null,
   "metadata": {},
   "outputs": [],
   "source": []
  }
 ],
 "metadata": {
  "kernelspec": {
   "display_name": "Python 2",
   "language": "python",
   "name": "python2"
  },
  "language_info": {
   "codemirror_mode": {
    "name": "ipython",
    "version": 2
   },
   "file_extension": ".py",
   "mimetype": "text/x-python",
   "name": "python",
   "nbconvert_exporter": "python",
   "pygments_lexer": "ipython2",
   "version": "2.7.15"
  }
 },
 "nbformat": 4,
 "nbformat_minor": 2
}
