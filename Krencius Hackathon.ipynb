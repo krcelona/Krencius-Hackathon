{
 "cells": [
  {
   "cell_type": "code",
   "execution_count": 1,
   "metadata": {},
   "outputs": [],
   "source": [
    "#Krencius Hackathon project\n"
   ]
  },
  {
   "cell_type": "code",
   "execution_count": 80,
   "metadata": {},
   "outputs": [],
   "source": [
    "#import modules\n",
    "\n",
    "import numpy as np\n",
    "import re"
   ]
  },
  {
   "cell_type": "code",
   "execution_count": 33,
   "metadata": {},
   "outputs": [],
   "source": []
  },
  {
   "cell_type": "code",
   "execution_count": 13,
   "metadata": {},
   "outputs": [],
   "source": [
    "#read in the text file containing the seed sequences for the miRNA in question\n",
    "\n",
    "#set the infile name\n",
    "InFileName2 = 'miR7.txt'\n",
    "\n",
    "#open the file for reading\n",
    "miR7file = open(InFileName2, 'r')\n"
   ]
  },
  {
   "cell_type": "code",
   "execution_count": 13,
   "metadata": {},
   "outputs": [
    {
     "name": "stdout",
     "output_type": "stream",
     "text": [
      "['GTCTTCCA', 'GTCTTCC', 'TCTTCCA', 'TCTTCC']\n",
      "{1: 'GTCTTCCA', 2: 'GTCTTCC', 3: 'TCTTCCA', 4: 'TCTTCC'}\n"
     ]
    }
   ],
   "source": [
    "\n",
    "#create empty lists \n",
    "miR7 = []\n",
    "names = [1,2,3,4]\n",
    "\n",
    "#move the contents of the miR7file to the miR7 list\n",
    "for value in open('miR7.txt'):\n",
    "    #remove the line ending characters\n",
    "    value = value.strip()\n",
    "    miR7.append(value)\n",
    "    \n",
    "#turning two lists (one is a string, the other is integar) and splitting them \n",
    "#into 4 key:value pairs in a dictionary\n",
    "\n",
    "miRNAdic = {}\n",
    "zipobj = zip (names, miR7)\n",
    "miRNAdic = dict(zipobj)\n",
    "print miRNAdic\n",
    "\n",
    "\n",
    "\n",
    "\n",
    "\n",
    "\n",
    "\n",
    "\n",
    "\n"
   ]
  },
  {
   "cell_type": "code",
   "execution_count": 123,
   "metadata": {},
   "outputs": [],
   "source": [
    "#NOT IN USE\n",
    "# convert multiple lines in the fasta file to one line per sequence \n",
    "with open('human-bonobo.fas') as f_input, open('output.fasta', 'w') as f_output:\n",
    "    block = []\n",
    "\n",
    "    for line in f_input:\n",
    "        if line.endswith('\\t'):\n",
    "            if block:\n",
    "                f_output.write(''.join(block) + '\\n')\n",
    "                block = []\n",
    "            f_output.write(line)\n",
    "        else:\n",
    "            block.append(line.strip())\n",
    "\n",
    "    if block:\n",
    "        f_output.write(''.join(block) + '\\n')\n",
    "\n",
    "\n",
    "#open file to check contents\n",
    "InFile = open(\"output.fasta\")\n",
    "Filecontents = InFile.read()\n",
    "#print Filecontents\n"
   ]
  },
  {
   "cell_type": "code",
   "execution_count": 84,
   "metadata": {},
   "outputs": [
    {
     "name": "stdout",
     "output_type": "stream",
     "text": [
      "[]\n",
      "['TCCAGTGTCTGCAATATCCAG']\n"
     ]
    }
   ],
   "source": [
    "#NOT IN USE\n",
    "#try to append each sequence to a new list using the output.fasta file \n",
    "#print Filecontents\n",
    "\n",
    "\n",
    "\n",
    "name = []\n",
    "sequences = []\n",
    "        \n",
    "with open ('output.fasta') as file: \n",
    "    seq = ''\n",
    "    searchstr = '(\\>'\n",
    "    header = re.search (searchstr, line)\n",
    "    if header:\n",
    "            line = line.rstrip(\"\\n\")\n",
    "            name.append(line)\n",
    "    else:\n",
    "        seq = line.replace(('\\n'), '')\n",
    "        sequences.append(seq)\n",
    "print name\n",
    "print sequences\n",
    "\n",
    "    "
   ]
  },
  {
   "cell_type": "code",
   "execution_count": 134,
   "metadata": {},
   "outputs": [
    {
     "name": "stdout",
     "output_type": "stream",
     "text": [
      "{'Seq1 [human reference]': 'GGTTTCCGATGGCACCTGTGTCAAGGTCTTCCAACAACTCCGGGTCTTCCAGCGACTTCAAGTCTTCCAATAATCTCAAGGTCTTCCAGATAATCCTGAGCTTCCAGAAAATCCACATCTTCCAGACAATCCATGTCTTCCGGACAATCCATGTCTTCCAAGAAGCTCCAAGTCTTCCAGTAAATCAAGTCTTCCAGCAAATCCAGTCTTCCAGCAATTACTGGTCTTCCACCAAATCCAGATCTTCCAGGAAAATCCACGTCTTCCAGGAAATCCATGTCTTCCAATAATTTCAAGGTCTTCCATCAAATACAGATCTTCCAGCTAATCCATGTCTTCCAGAAAAATCTGTGTCTTCCACCAAATCCAAGTCTTCCAGTAAATCTAGTTCTTCCAGAAAAATCTAGATCTTCCAGTCAATCAGTGTCTTCCAGAAAGAAATCCAGGTCTTCCAGTCAATCAGTGTCTTCCAGAAAGAAATCCAGGTCTTCCAGTCAGTCAGTGTCTTCCAGAAAAATCTACGTCTTCCACCAAATCCAGGTCTTCCAGTCAATCCACATCTTCCGGAAAAAATCCAGGTCTTCCAGCCAATATATGTCTTCCTGAAGATCCACGTCTTCCAGAAAATCCATGTCTTCCAGAAAATCCATGTCTTCCAGTAACCTCCCAGTCTTCCAGAAAATCCACGTCTTCCCAACAATCCAAGTCTTCCGGATAATTTGGGTCTTCCTGAAAATCTACGTCTTCCAAAAAAGCCATGTCTTCCAGAAAATCCACATCTTCCAATGGCCTCCAGGTCTTCCAGACTATCCATGTCTTCCAGAAAATCCTTGTCTTCCCTTAAATCTATAGCTTCCAAAAAATCCGGGTCTTCCAGGAAATCCGTGTCTTCCAGCAAGTCCACGTCTTCCAACAAAGCCATGTCTTCCAGACTATCCATGTCTTCCAGAAAATCCTTGTCTTCCCTCAAATCCATAGCTTCCGAAAAATCCAGGTCTTCCAGGAAATCCGTGTCTTCCAGCAAATCCACGTCTTCCAACAAAGCCATGTCTTCCATCAAATTAATGTCTTCCAGCCTACTTGTGTCTTCCAACAAAGGTACGTCTTCCAACAAAGGTACGTCTTC------------------------------------CAACAAAGGTATGTCTTCCAACAAAGGTACGTCTTCCAGAAAATCCACGTCTTCCAACCAAGCCATGTCTTCCAGAAAATCCACGTCTTCCAGAAAATATATGTCTTCCAACTAAGCTACGTCTTCCAACAAATCCATGTCTTCCTATATCTCCAGGTCTTCCAGCATCTCCAGGGCTTCCAGCATCTGCTCGTCTTCCAACATCTCCACGTCTTCCAGCATCTCTGTGTCTTCCAGCATCTTCATGTCTTCCAACAACTACCCAGTCTTCCATCAACTGGCTCAATATCCATGTCTTCCAACGTCTCCAGTGTGCTGATCTTCTGACATTCAGGTCTTCCAGTGTCTGCAATATCCAG', 'Seq2 [human SNPs]': 'GGTTTCCGATGGCACCTGTGTCAAGGTCTTCCAACAACTCTAGGTCTTCCAGTGACTTCAAGTCTTCCAATAATCTCAAGGTCTTCCAGATAATCCTGAGATTCCAGAAAATCCACATCTTCCAGACAATCCATGTCTTCCAGACAATCCCTGTCTTCCAAGAAGCTCCAAGTCTTCCAGTAAATCAAGTCTTCCAGCAAATCCAGTCTTCCAGCAATTATTGGTCTTCCACCAAATCCAGATCTTCCAGGAAAATCCACGTCTTCCAGGAAATCCATGTCTTCCAATAATTTCAAGGTCTTCCATCACATACGGATCCTCCACCTAATCCATGTCTTCCAGAAAAATCTGTGTCTTCTCTCAAATCCAAGTCTTCCGATAAATCTAGTTCTTCCAGAAAAATCTAGATCTTCCAACCAATCAGCGTCTTCCTGAAAGAAATACACGTATGCCATTCAATCAGTGTCTCTCAGAAAGCAATCCAAGTCTTCCAGTACGTCAGCGTCTTCCAGAAATATCTATACCTTCTACCAAATCCAGGTCTTCCCGTCAATTCACATCTTCTAGGAAAAGTTTACGTCTCCCGGCAAATATGTGACTTCCTGAATCTCCACATCTTCCGGAAGATTCACGTCTTCCAGAAAACCCATGTTTTCCAGTAACCACCCAACCTTTCAGAAAATCCATGTCTTCCAGAAAATTCATGTCTTCTAGATGATTTGGGTCTTCCTAAAACTCTATATCTTCCAAAAAATCTATGTCTTCCAGATAACCCACATCTTTCAATGGACTCCAGGTCTTCCACACTATCCAAATCTTCCAGAAAATGCGTGTCTTCCCTTAAATCTGTAGCTTCCAAGATTTCTGGGTCTTCCAGGAAATCTATGTCTTCCAGCAAGTCCCCATCTTCCAACAAAGCCATGTCCTCCAGACTATCTTTGTCTTCCAGAATATCCTCGTCCTCCCTCAGATTCACAGCTTCTAAAAAATCCAGGTCTTCCAGAATATCCGTGTCTTCCAACAAGTCCATATCTTCCAACAAAGCCATGTCTTCCATCAACTTAATGTCTTCTAGCCCACTTGTGTCTTCCAACAAATGTACGTCTTCCAGCAAAGGTATATCTTCCAACAAAGG------------------------------------TACGTCTTCCAACAACGGTATATCTTCCAACAAATCCATGCCTTCCAACAAAGCCGTGCGTTCCAGAAAATCCACATCTTCCAGAAAATATATGTCTTCCAACAAAGGTACATCTTTCAACAAATCCATGTCTTCCTATATCTCCAGGTCTTCCAGCATCTCCAGGGCTTCCAGTATCTGCTTATCTTCCAACATCTCCACATCTTCCAGCATCTCCATGTCTTCCAGCATCTTCAAGTCTTCCAACAACTACCCAGTCTTCCATCAACTGGCTCAATATCCATGTCTTCCAACGTCTCCAGTGTGCTGATCTTCTGACATTCAGGTCTTCCAGTGTCTGCGATATCCAG', 'Seq3 [bonobo]': 'GGTTTCCGATGGCGCCAGTGTCAAGGTCTTCCAACAACTCCGGGTCTTCCAGCGACTTCAAGTCTTCCAATAATCTCAAGGTCTTCCGGATAATCCTGAGCTTCCAGAAAATCCACATCTTCCAGACAATCCATGTCTTCCGGACAATCCATGTCTTCCAAGAAGCTCCAAGTCTTCCAGTAAATCAAGTCTTCCAGCAAATCCAGTCTTCCAGCAATTATAGGTCTTCCACCAAATCCAGATCTTCCAGGAAAATCCACGTCTTCCAGGAAATCCATGTCTTCCAATAATTTCAAGGTCTTCCATCAAATACAGATCTTCCAGCTAATCCATGTCTTCCAGAAAAATCTGTGTCTTCCACCAAATCCAAGTCTTCCAGTAAATCTAGTTCTTCCAGAAAAATCTAGATCTTCCAGTCAATCAGTGTCTTCCAGAAAGAAATCCAGGTCTTCCAGTCAATCAGTGTCTTCCAGAAAGAAATCCAGGTCTTCCAGTC----AGTGTCTTCCAGAAAAATCTATGTCTTCCACCAAATCCAGGTCTTCCAGTCAATCCACATCTTCCGGAAAAAATCCAGGTCTTCCAGCCAATATATGTCTTCCTGAAGATCCACGTCTTCCAGAAAATCCATGTCTTCCAGAAGATCCACGTCTTCCAGTAACCTCCCAGTCTTCCAGAAAATCCACGTCTTCCCAACAATCCAGGTCTTCCGGATAATTTGGGTCTTCCTGAAAATCTACGTCTTCCAAAAAAGCCATGTCTTCCAGAAAATCCACATCTTCCAATGGCCTCCAGGTCTTCCAGACTATCCATGTCTTCCAGAAAATCCTTGTCTTCCCTCAAATCTATAGCTTCCAAAAAATCCGGGTCTTCCAGGAAATCCGTGTCTTCCAGCAAGTCCACGTCTTCCAACAAAGCCATGTCTTCCAGACTATCCACGTCTTCCAGAAAATCCTTGTCTTCCGTCAAATCCATAGCTTCCGAAAAATCCAGGTCTTCCAGGAAATCCGTGTCTTCCAGCAAATCCACGTCTTCCAACAAAGCCATGTCTTCCATCAAATTAATGTCTTCCAGCCTACTTGTGTCTTCCAACAAAGGTGTGTCTTCCAACAAAGGTGTGTCTTCCAACAAAGGTGTGTCTTCCAACAAAGGTACGTCTTCCAACAAAGGTACGTCTTCCAACAAAGTTACGTCTTCCAGAAAATCCATGTCTTCCAACCAAGCCATGTCTTCCAGAAAATCCACGTCTTCCAGAAAATATATGTCTTCCAACTAAGCTACGTCTTCCAACAAATCCATGTCTTCCTATATCTCCAGGTCTTCCAGCATCTCCAGGGCTTCCAGCATCTGCTCGTCTTCCAACATCTCCACGTCTTCCAGCATCTCTACGTCTTCCAGCATCTTCATGTCTTCCAACAACTACCCAGTCTTCCATCAACTGGCTCAATATCCATGTCTTCCAACGTCTCCAGTGTGCTGATCTTCTGACATTCAGGTCTTCCAGTGTCTGCAATATCCAG'}\n"
     ]
    }
   ],
   "source": [
    "# This code works; don't remove!\n",
    "def read_fasta(fp):\n",
    "        name, seq = None, []\n",
    "        for line in fp:\n",
    "            line = line.rstrip()\n",
    "            if line.startswith(\">\"):\n",
    "                if name: yield (name, ''.join(seq))\n",
    "                name, seq = line, []\n",
    "            else:\n",
    "                seq.append(line)\n",
    "        if name: yield (name, ''.join(seq))\n",
    "dictionary = {}\n",
    "with open('human-bonobo.fas') as fp:\n",
    "    for name, seq in read_fasta(fp):\n",
    "        dictionary[name[1:]]=seq\n",
    "        #print dictionary\n",
    "    print dictionary\n",
    "\n",
    "\n",
    "      \n",
    "\n"
   ]
  },
  {
   "cell_type": "code",
   "execution_count": null,
   "metadata": {},
   "outputs": [],
   "source": [
    "\n"
   ]
  },
  {
   "cell_type": "code",
   "execution_count": null,
   "metadata": {},
   "outputs": [],
   "source": []
  },
  {
   "cell_type": "code",
   "execution_count": null,
   "metadata": {},
   "outputs": [],
   "source": []
  }
 ],
 "metadata": {
  "kernelspec": {
   "display_name": "Python 2",
   "language": "python",
   "name": "python2"
  },
  "language_info": {
   "codemirror_mode": {
    "name": "ipython",
    "version": 2
   },
   "file_extension": ".py",
   "mimetype": "text/x-python",
   "name": "python",
   "nbconvert_exporter": "python",
   "pygments_lexer": "ipython2",
   "version": "2.7.15"
  }
 },
 "nbformat": 4,
 "nbformat_minor": 2
}
